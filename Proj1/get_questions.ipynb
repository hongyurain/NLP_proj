{
 "cells": [
  {
   "cell_type": "code",
   "execution_count": 43,
   "metadata": {},
   "outputs": [
    {
     "name": "stdout",
     "output_type": "stream",
     "text": [
      "https://stackoverflow.com/questions/tagged/java?sort=frequent&pagesize=50&page=1\n"
     ]
    },
    {
     "name": "stderr",
     "output_type": "stream",
     "text": [
      "/opt/anaconda3/lib/python3.7/site-packages/urllib3/connectionpool.py:847: InsecureRequestWarning: Unverified HTTPS request is being made. Adding certificate verification is strongly advised. See: https://urllib3.readthedocs.io/en/latest/advanced-usage.html#ssl-warnings\n",
      "  InsecureRequestWarning)\n"
     ]
    },
    {
     "name": "stdout",
     "output_type": "stream",
     "text": [
      "question number: 20\n",
      "total count:20\n",
      "<class 'list'>\n",
      "['/questions/218384/what-is-a-nullpointerexception-and-how-do-i-fix-it', '/questions/513832/how-do-i-compare-strings-in-java', '/questions/40480/is-java-pass-by-reference-or-pass-by-value', '/questions/13102045/scanner-is-skipping-nextline-after-using-next-or-nextfoo', '/questions/5554734/what-causes-a-java-lang-arrayindexoutofboundsexception-and-how-do-i-prevent-it', '/questions/23353173/unfortunately-myapp-has-stopped-how-can-i-solve-this', '/questions/6343166/how-to-fix-android-os-networkonmainthreadexception', '/questions/9554636/the-use-of-multiple-jframes-good-or-bad-practice', '/questions/2770321/what-is-a-raw-type-and-why-shouldnt-we-use-it', '/questions/504103/how-do-i-write-a-correct-micro-benchmark-in-java', '/questions/25706216/what-does-a-cannot-find-symbol-or-cannot-resolve-symbol-error-mean', '/questions/5621338/how-to-add-jtable-in-jpanel-with-null-layout', '/questions/3177733/how-can-i-avoid-java-code-in-jsp-files-using-jsp-2', '/questions/2591098/how-to-parse-json-in-java', '/questions/7229226/should-i-avoid-the-use-of-setpreferredmaximumminimumsize-methods-in-java-swi', '/questions/17874717/providing-white-space-in-a-swing-gui', '/questions/409784/whats-the-simplest-way-to-print-a-java-array', '/questions/3988788/what-is-a-stack-trace-and-how-can-i-use-it-to-debug-my-application-errors', '/questions/29140402/how-do-i-print-my-java-object-without-getting-sometype2f92e0f4', '/questions/2745265/is-listdog-a-subclass-of-listanimal-why-are-java-generics-not-implicitly-po']\n"
     ]
    },
    {
     "data": {
      "text/plain": [
       "1450"
      ]
     },
     "execution_count": 43,
     "metadata": {},
     "output_type": "execute_result"
    }
   ],
   "source": [
    "# import imp\n",
    "import requests\n",
    "from queue import Queue, Empty\n",
    "from threading import Thread\n",
    "import json\n",
    "import bs4\n",
    "import time\n",
    "\n",
    "# imp.reload(sys)\n",
    "queue = Queue()\n",
    "result = []\n",
    "\n",
    "base = \"https://stackoverflow.com/questions/tagged/java?sort=frequent&pagesize=50&page=\"\n",
    "\n",
    "headers = {\n",
    "    'Cache-Control' : 'no-cache',\n",
    "    'Cookie' : '',\n",
    "    'Connection' : 'keep-alive'\n",
    "}\n",
    "\n",
    "def process(content):\n",
    "    soup = bs4.BeautifulSoup(content, \"html.parser\")\n",
    "\n",
    "    # process the html content\n",
    "    questions = soup.find_all('div' , limit=20, class_=\"question-summary\")\n",
    "    print(\"question number:\", len(questions))\n",
    "\n",
    "    for question in questions:\n",
    "        question_link = question.find('a', class_=\"question-hyperlink\").get(\"href\")\n",
    "        result.append(question_link)\n",
    "    \n",
    "\n",
    "def get_parser():\n",
    "\n",
    "    def parse():\n",
    "        try:\n",
    "            while True:\n",
    "                page = queue.get_nowait()\n",
    "                link = base + str(page)\n",
    "                print(link)\n",
    "                r = requests.get(link, verify=False, headers = headers)\n",
    "\n",
    "                try:\n",
    "                    process(r.text.encode('utf-8'))\n",
    "                except Exception:\n",
    "                    print (page)\n",
    "                time.sleep(100)\n",
    "        except Empty:\n",
    "            pass\n",
    "\n",
    "    return parse()\n",
    "\n",
    "queue.put(1)\n",
    "get_parser()\n",
    "\n",
    "\n",
    "# for i in range(1 , 13):\n",
    "#     queue.put(i)\n",
    "\n",
    "# workers = []\n",
    "# for i in range(10): # number of threads\n",
    "#     worker = Thread(target=parser)\n",
    "#     worker.start()\n",
    "#     workers.append(worker)\n",
    "# for worker in workers:\n",
    "#     worker.join()\n",
    "\n",
    "print (\"total count:\" + str(len(result)))\n",
    "print(type(result))\n",
    "print(result)\n",
    "write_file = open('stackoverflow_questions' , 'w+')\n",
    "write_file.write(\"\\n\".join(result))"
   ]
  },
  {
   "cell_type": "code",
   "execution_count": null,
   "metadata": {},
   "outputs": [],
   "source": []
  }
 ],
 "metadata": {
  "kernelspec": {
   "display_name": "Python 3",
   "language": "python",
   "name": "python3"
  },
  "language_info": {
   "codemirror_mode": {
    "name": "ipython",
    "version": 3
   },
   "file_extension": ".py",
   "mimetype": "text/x-python",
   "name": "python",
   "nbconvert_exporter": "python",
   "pygments_lexer": "ipython3",
   "version": "3.7.4"
  }
 },
 "nbformat": 4,
 "nbformat_minor": 2
}
